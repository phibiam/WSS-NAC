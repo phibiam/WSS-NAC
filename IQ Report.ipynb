{
 "cells": [
  {
   "cell_type": "code",
   "execution_count": 1,
   "id": "0a045b17",
   "metadata": {},
   "outputs": [],
   "source": [
    "import pandas as pd\n",
    "from pandas import DataFrame\n",
    "import numpy as np\n",
    "from datetime import datetime\n",
    "import datetime as dt\n",
    "import time\n",
    "\n",
    "#Read the data - SAP, SFDC & Ecomm\n",
    "SAP = pd.read_excel(\"C:\\\\WSS-NAC-Reports\\\\Automation Folder\\\\IQ Report\\\\01_SAP_Raw Report_IQ.xlsx\")\n",
    "\n",
    "SFDC = pd.read_csv(\"C:\\\\WSS-NAC-Reports\\\\Automation Folder\\\\IQ Report\\\\SFDC_Raw Report.csv\", parse_dates=['Date/Time Opened'], dayfirst=True, encoding = \"cp1252\")\n",
    "\n",
    "Ecomm = pd.read_csv(\"C:\\\\WSS-NAC-Reports\\\\Automation Folder\\\\IQ Report\\\\ECOMM Raw Data.csv\")\n",
    "\n",
    "#Remove duplicates on SAP & Ecomm data\n",
    "SAP = SAP.drop_duplicates(subset=['Sales Document'])\n",
    "Ecomm = Ecomm.drop_duplicates(subset=['TELUS_ORDER_ID'])\n",
    "\n",
    "#Remove false time from Document Date, Delivery Date & Goods Issue Date\n",
    "SAP['Goods Issue Date'] = SAP['Goods Issue Date'].dt.strftime('%d/%m/%Y')\n",
    "SAP['Document Date'] = SAP['Document Date'].dt.strftime('%d/%m/%Y')\n",
    "SAP['Delivery Date'] = SAP['Delivery Date'].dt.strftime('%d/%m/%Y')\n",
    "\n",
    "#Adjust SFDC date/time\n",
    "SFDC['Date/Time Opened'] = (SFDC['Date/Time Opened']).dt.strftime('%Y-%m-%d %H:%M:%S')\n",
    "\n",
    "#Rename some columns\n",
    "SFDC.rename(columns = {'Case Number' : 'SFDC Case #', 'Date/Time Opened' : 'Received in SFDC'}, inplace = True)\n",
    "Ecomm.rename(columns = {'SUBMITTED_BY' : 'Submitter'}, inplace = True)\n"
   ]
  },
  {
   "cell_type": "code",
   "execution_count": 2,
   "id": "58d99c9f",
   "metadata": {},
   "outputs": [],
   "source": [
    "#Merge all three data\n",
    "\n",
    "R1 = pd.merge(left=SAP, right=Ecomm, left_on='Reference', right_on='TELUS_ORDER_ID', how='left')\n",
    "#R1.head()\n",
    "# R2 = R1.join(SFDC, how='inner', lsuffix='_left', rsuffix='_right')\n",
    "SFDC = SFDC.drop_duplicates(subset=['IQ TL #'])\n",
    "R2 = pd.merge(left=R1, right=SFDC, left_on='Reference', right_on='IQ TL #', how='left')\n",
    "#R2\n",
    "\n",
    "R3 = R2[['Plant', 'Sales Group', 'Sold-to party', 'Ship-to party', 'Ship-to Province', 'Sales Document', 'Document Date', 'Submitter', 'Delivery', 'Delivery Date', 'Goods Issue Date', 'Reference', \n",
    "                 'SFDC Case #', 'Case Owner', 'Received in SFDC']]\n"
   ]
  },
  {
   "cell_type": "code",
   "execution_count": 3,
   "id": "cf663e51",
   "metadata": {},
   "outputs": [
    {
     "name": "stderr",
     "output_type": "stream",
     "text": [
      "C:\\ProgramData\\Anaconda3\\lib\\site-packages\\pandas\\core\\frame.py:5039: SettingWithCopyWarning: \n",
      "A value is trying to be set on a copy of a slice from a DataFrame\n",
      "\n",
      "See the caveats in the documentation: https://pandas.pydata.org/pandas-docs/stable/user_guide/indexing.html#returning-a-view-versus-a-copy\n",
      "  return super().rename(\n"
     ]
    }
   ],
   "source": [
    "#Check for backorders\n",
    "\n",
    "sf = pd.read_csv(\"C:\\\\WSS-NAC-Reports\\\\Automation Folder\\\\IQ Report\\\\SFDC_Raw Report.csv\", encoding = \"cp1252\")\n",
    "BO = sf[(sf['Old Value'] == 'Backorder') | (sf['New Value'] == 'Backorder')]\n",
    "\n",
    "#Rename column to reflect BO\n",
    "BO.rename(columns = {'Case Number' : 'Backorder?'}, inplace = True)\n",
    "BO = BO[['Backorder?']]\n",
    "BO = BO.drop_duplicates()\n"
   ]
  },
  {
   "cell_type": "code",
   "execution_count": 4,
   "id": "fcd3f6a6",
   "metadata": {},
   "outputs": [],
   "source": [
    "#Add backorder to table\n",
    "\n",
    "R4 = R3.merge(BO, left_on='SFDC Case #', right_on='Backorder?', how='left')\n"
   ]
  },
  {
   "cell_type": "code",
   "execution_count": 5,
   "id": "96eb15c4",
   "metadata": {},
   "outputs": [],
   "source": [
    "#Create 2 reference tables from clientwikki and combine them\n",
    "Clientwiki = pd.read_excel(\"C:\\\\WSS-NAC-Reports\\\\Automation Folder\\\\IQ Report\\\\01 - WSS Corporate Client List.xlsx\", sheet_name = 'Master Client List', engine = 'openpyxl')\n",
    "\n",
    "ck1 = Clientwiki[['SAP Account', 'Current Delivery Method', 'Team']]\n",
    "ck2 = Clientwiki[['BAN', 'Current Delivery Method', 'Team']]\n",
    "\n",
    "#Rename Sap Account & BAN\n",
    "ck1.rename(columns = {'SAP Account' : 'Account'}, inplace = True)\n",
    "ck2.rename(columns = {'BAN' : 'Account'}, inplace = True)\n",
    "\n",
    "#Combine both\n",
    "ck3 = pd.concat([ck1, ck2])\n"
   ]
  },
  {
   "cell_type": "code",
   "execution_count": 6,
   "id": "3b528acb",
   "metadata": {},
   "outputs": [],
   "source": [
    "#Create reference table from clientwikki\n",
    "Ref = pd.merge(left=Ecomm, right=ck3, left_on='ACCOUNT', right_on='Account', how='left')\n",
    "\n",
    "#Rename some columns to align with output\n",
    "Ref.rename(columns = {'TELUS_ORDER_ID' : 'TL', 'Team' : 'City', 'Current Delivery Method' : 'Flow'}, inplace = True)\n",
    "\n",
    "#Add a column to specify whether WSS or not\n",
    "Ref['WSS?'] = np.where(Ref['City'].isnull(), 'Non WSS', 'IQ WSS')\n",
    "\n",
    "#Final reference table - remove duplicate on the TL column\n",
    "Ref = Ref[['TL', 'WSS?', 'City', 'Flow']]\n",
    "Ref = Ref.drop_duplicates(subset=['TL'])\n",
    "#Ref.head()\n",
    "\n",
    "#Add reference table to output\n",
    "R5 = pd.merge(left=R4, right=Ref, left_on='Reference', right_on='TL', how='left')\n"
   ]
  },
  {
   "cell_type": "code",
   "execution_count": 7,
   "id": "ac33a4f3",
   "metadata": {},
   "outputs": [],
   "source": [
    "#Read SAP again so as to concatenate date & time\n",
    "\n",
    "sp = pd.read_excel(\"C:\\\\WSS-NAC-Reports\\\\Automation Folder\\\\IQ Report\\\\01_SAP_Raw Report_IQ.xlsx\")\n",
    "sp['Doc Time'] = pd.to_datetime(sp['Document Date']) + pd.to_timedelta(sp['Document Time'].astype(str))\n",
    "sp['Del Time'] = pd.to_datetime(sp['Delivery Date']) + pd.to_timedelta(sp['Delivery Time'].astype(str))\n",
    "sp['Gd Time'] = pd.to_datetime(sp['Goods Issue Date']) + pd.to_timedelta(sp['Goods Issue Time'].astype(str))\n",
    "sp_new = sp[['Sales Document', 'Doc Time', 'Del Time', 'Gd Time']]\n",
    "\n",
    "#Remove duplicate on sales document\n",
    "sp_new = sp_new.drop_duplicates(subset=['Sales Document'])"
   ]
  },
  {
   "cell_type": "code",
   "execution_count": 8,
   "id": "25e63a71",
   "metadata": {},
   "outputs": [],
   "source": [
    "#Add SFDC recieved time to the sp table by joining sp to R5 using sale document column\n",
    "\n",
    "R6 = pd.merge(left=R5, right=sp_new, on='Sales Document', how='left')\n"
   ]
  },
  {
   "cell_type": "code",
   "execution_count": 1,
   "id": "c288da48",
   "metadata": {},
   "outputs": [
    {
     "ename": "IndentationError",
     "evalue": "expected an indented block (Temp/ipykernel_10788/3365823358.py, line 56)",
     "output_type": "error",
     "traceback": [
      "\u001b[1;36m  File \u001b[1;32m\"C:\\Users\\t923574\\AppData\\Local\\Temp/ipykernel_10788/3365823358.py\"\u001b[1;36m, line \u001b[1;32m56\u001b[0m\n\u001b[1;33m    \u001b[0m\n\u001b[1;37m    ^\u001b[0m\n\u001b[1;31mIndentationError\u001b[0m\u001b[1;31m:\u001b[0m expected an indented block\n"
     ]
    }
   ],
   "source": [
    "#Calculate date without weekends and holidays\n",
    "\n",
    "COL1 = \"SFDC_Goods (Mins)\"\n",
    "COL2 = \"SFDC_SAP (Mins)\"\n",
    "COL3 = \"SAP_WH (Mins)\"\n",
    "COL4 = \"WH_Goods (Mins)\"\n",
    "COL5 = \"SAP_Goods (Mins)\"\n",
    "\n",
    "hd = pd.read_excel(\"C:\\\\WSS-NAC-Reports\\\\Automation Folder\\\\IQ Report\\\\Holidays.xlsx\")\n",
    "HOLIDAYS = hd['HolidayDate']\n",
    "\n",
    "def get_diff(date1, date2):\n",
    "    try:\n",
    "        diff = abs((date2 - date1).total_seconds())\n",
    "        days_between = (date2.date() - date1.date()).days\n",
    "        weekdays_between = abs(np.busday_count(date2.date(), date1.date()))\n",
    "        weekends_between = days_between - weekdays_between\n",
    "\n",
    "        if date2.date() != date1.date():\n",
    "            diff = diff - (weekends_between * SECONDS_IN_A_DAY)\n",
    "            \n",
    "        for holiday in HOLIDAYS:\n",
    "            holiday_date = datetime.strptime(str(holiday), \"%Y-%m-%d %H:%M:%S\")\n",
    "            if date1.date() <= holiday_date.date() <= date2.date():\n",
    "                diff = diff -  SECONDS_IN_A_DAY\n",
    "\n",
    "\n",
    "        return int(diff / 60)\n",
    "\n",
    "    except Exception as e:\n",
    "        print(e)\n",
    "        return 0\n",
    "\n",
    "\n",
    "SECONDS_IN_A_DAY = 86400\n",
    "R6[COL1] = 0\n",
    "R6[COL2] = 0\n",
    "R6[COL3] = 0\n",
    "R6[COL4] = 0\n",
    "R6[COL5] = 0\n",
    "\n",
    "for index, row in R6.iterrows():\n",
    "    try:\n",
    "        sfdc_date = datetime.strptime(str(row[\"Received in SFDC\"]), \"%Y-%m-%d %H:%M:%S\")\n",
    "        doc_time_date = datetime.strptime(str(row[\"Doc Time\"]), \"%Y-%m-%d %H:%M:%S\")\n",
    "        del_time_date = datetime.strptime(str(row[\"Del Time\"]), \"%Y-%m-%d %H:%M:%S\")\n",
    "        gd_time_date = datetime.strptime(str(row[\"Gd Time\"]), \"%Y-%m-%d %H:%M:%S\")\n",
    "   \n",
    "        R6.at[index, COL1] = get_diff(sfdc_date, gd_time_date)\n",
    "        R6.at[index, COL2] = ifor_val = get_diff(sfdc_date, doc_time_date)\n",
    "        R6.at[index, COL3] = get_diff(doc_time_date, del_time_date)\n",
    "        R6.at[index, COL4] = get_diff(del_time_date, gd_time_date)\n",
    "        R6.at[index, COL5] = get_diff(doc_time_date, gd_time_date)\n",
    "    except Exception as e:\n",
    "        print(e)\n",
    "        \n"
   ]
  },
  {
   "cell_type": "code",
   "execution_count": 10,
   "id": "88c02a8a",
   "metadata": {},
   "outputs": [],
   "source": [
    "#Export IQ Result\n",
    "\n",
    "IQ = R6[['Plant', 'Sales Group', 'Sold-to party', 'Ship-to party', 'Ship-to Province', 'Sales Document', 'Document Date', \n",
    "         'Submitter', 'Delivery', 'Delivery Date', 'Goods Issue Date', 'Reference', 'WSS?', 'City', 'Flow', 'SFDC Case #', \n",
    "         'Case Owner', 'Received in SFDC', 'Goods Issue Date', 'SFDC_Goods (Mins)', 'SFDC_SAP (Mins)', 'SAP_WH (Mins)', \n",
    "         'WH_Goods (Mins)', 'SAP_Goods (Mins)', 'Backorder?']]\n",
    "export_excell = IQ.to_excel(r'C:\\\\WSS-NAC-Reports\\\\Automation Folder\\\\IQ Report\\\\IQ_Output.xlsx', index=None, header=True)"
   ]
  }
 ],
 "metadata": {
  "kernelspec": {
   "display_name": "Python 3 (ipykernel)",
   "language": "python",
   "name": "python3"
  },
  "language_info": {
   "codemirror_mode": {
    "name": "ipython",
    "version": 3
   },
   "file_extension": ".py",
   "mimetype": "text/x-python",
   "name": "python",
   "nbconvert_exporter": "python",
   "pygments_lexer": "ipython3",
   "version": "3.9.7"
  }
 },
 "nbformat": 4,
 "nbformat_minor": 5
}
