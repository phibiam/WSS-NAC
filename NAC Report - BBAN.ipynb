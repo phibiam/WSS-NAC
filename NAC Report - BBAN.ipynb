{
 "cells": [
  {
   "cell_type": "code",
   "execution_count": 1,
   "id": "0c24c131",
   "metadata": {},
   "outputs": [],
   "source": [
    "import pandas as pd\n",
    "from pandas import DataFrame\n",
    "import numpy as np\n",
    "from datetime import datetime\n",
    "import datetime as dt\n",
    "import time\n",
    "\n",
    "#Read the data - SAP, SFDC & Ecomm\n",
    "SAP = pd.read_excel(\"C:\\\\WSS-NAC-Reports\\\\Automation Folder\\\\NAC Report\\\\01_SAP_Raw Report_NAC.xlsx\")\n",
    "\n",
    "SFDC = pd.read_csv(\"C:\\\\WSS-NAC-Reports\\\\Automation Folder\\\\NAC Report\\\\SFDC_Raw Nac Report.csv\", parse_dates=['Date/Time Opened'], dayfirst=True, encoding = \"cp1252\")\n",
    "\n",
    "#Remove duplicates on both data\n",
    "SAP = SAP.drop_duplicates(subset=['Sales Document'])\n",
    "SFDC = SFDC.drop_duplicates(subset=['SAP Order No.'])\n",
    "\n",
    "#Remove false time from Document Date, Delivery Date & Goods Issue Date\n",
    "SAP['Goods Issue Date'] = SAP['Goods Issue Date'].dt.strftime('%d/%m/%Y')\n",
    "SAP['Document Date'] = SAP['Document Date'].dt.strftime('%d/%m/%Y')\n",
    "SAP['Delivery Date'] = SAP['Delivery Date'].dt.strftime('%d/%m/%Y')\n",
    "\n",
    "#Adjust SFDC date/time\n",
    "SFDC['Date/Time Opened'] = (SFDC['Date/Time Opened']).dt.strftime('%Y-%m-%d %H:%M:%S')\n"
   ]
  },
  {
   "cell_type": "code",
   "execution_count": 2,
   "id": "8f566d27",
   "metadata": {},
   "outputs": [],
   "source": [
    "#Rename some columns\n",
    "SFDC.rename(columns = {'Case Number' : 'Case_Number', 'Date/Time Opened' : 'Rcvd_SFDC', \n",
    "                       'Number of subscribers activated' : 'Number_of_Subs_activated', \n",
    "                       'Number of subscribers renewed' : 'Number_of_Subs_Renewed'}, inplace = True)\n",
    "SAP.rename(columns = {'Sales Office' : 'Order_Type', 'Goods Issue Date' : 'Goods_Date'}, inplace = True)\n"
   ]
  },
  {
   "cell_type": "code",
   "execution_count": 3,
   "id": "d147dedb",
   "metadata": {},
   "outputs": [],
   "source": [
    "#Only show Sales Office from 9502\n",
    "\n",
    "values = [9502]\n",
    "\n",
    "SAP = SAP.loc[SAP['Order_Type'].isin(values)]"
   ]
  },
  {
   "cell_type": "code",
   "execution_count": 4,
   "id": "1a174733",
   "metadata": {},
   "outputs": [],
   "source": [
    "#Merge both data\n",
    "\n",
    "SFDC['SAP Order No.']=SFDC['SAP Order No.'].apply(pd.to_numeric, errors='coerce').fillna(0).astype(float).dropna()\n",
    "R1 = pd.merge(left=SAP, right=SFDC, left_on='Sales Document', right_on='SAP Order No.', how='left')\n"
   ]
  },
  {
   "cell_type": "code",
   "execution_count": 5,
   "id": "5d7e91fe",
   "metadata": {},
   "outputs": [],
   "source": [
    "#Read the agents' list\n",
    "\n",
    "agent = pd.read_excel(\"C:\\\\WSS-NAC-Reports\\\\Automation Folder\\\\NAC Report\\\\Agent list.xlsx\")\n"
   ]
  },
  {
   "cell_type": "code",
   "execution_count": 6,
   "id": "c2b2ee80",
   "metadata": {},
   "outputs": [],
   "source": [
    "#Merge agent list data on R1\n",
    "\n",
    "R2 = pd.merge(left=R1, right=agent, left_on='User ID', right_on='ID', how='left')\n"
   ]
  },
  {
   "cell_type": "code",
   "execution_count": 7,
   "id": "15430bed",
   "metadata": {},
   "outputs": [],
   "source": [
    "#Remove non NAC orders\n",
    "\n",
    "R2.dropna(subset=['Comment'], inplace=True)\n"
   ]
  },
  {
   "cell_type": "code",
   "execution_count": 8,
   "id": "fc28253c",
   "metadata": {},
   "outputs": [],
   "source": [
    "#Define all the necessary status\n",
    "\n",
    "s2 = pd.read_csv(\"C:\\\\WSS-NAC-Reports\\\\Automation Folder\\\\NAC Report\\\\SFDC_Raw Nac Report.csv\", parse_dates=['Edit Date'], dayfirst=True, encoding = \"cp1252\")\n",
    "\n",
    "#Adjust date/time\n",
    "s2['Edit Date'] = (s2['Edit Date']).dt.strftime('%Y-%m-%d %H:%M:%S')\n",
    "\n",
    "s2['ACT_Status_Date'] = s2['Edit Date']\n",
    "s2['CARAT Date'] = s2['Edit Date']\n",
    "s2['CAD Date'] = s2['Edit Date']\n",
    "s2['CARAT'] = s2['Case Number']\n",
    "s2['VALIDATION'] = s2['Case Number']\n",
    "s2['PREORDER'] = s2['Case Number']\n",
    "s2['BACKORDER'] = s2['Case Number']\n",
    "s2['CAD'] = s2['Case Number']\n"
   ]
  },
  {
   "cell_type": "code",
   "execution_count": 9,
   "id": "a5c54d5c",
   "metadata": {},
   "outputs": [],
   "source": [
    "#Check for Activation\n",
    "\n",
    "act = s2[(s2['Old Value'] == 'Activation') | (s2['New Value'] == 'Activation')]\n",
    "\n",
    "act = act[['Case Number', 'ACT_Status_Date']]\n",
    "\n",
    "act = act.drop_duplicates(subset=['Case Number'])"
   ]
  },
  {
   "cell_type": "code",
   "execution_count": 10,
   "id": "250c2d46",
   "metadata": {},
   "outputs": [],
   "source": [
    "#Check for Backorder\n",
    "\n",
    "bo = s2[(s2['Old Value'] == 'Backorder') | (s2['New Value'] == 'Backorder') | (s2['Old Value'] == 'Allocation') |\n",
    "       (s2['New Value'] == 'Allocation')]\n",
    "\n",
    "bo = bo[['Case Number', 'BACKORDER']]\n",
    "\n",
    "bo = bo.drop_duplicates(subset=['Case Number'])\n"
   ]
  },
  {
   "cell_type": "code",
   "execution_count": 11,
   "id": "ddb68f6f",
   "metadata": {},
   "outputs": [],
   "source": [
    "#Check for CARAT\n",
    "\n",
    "car = s2[(s2['Old Value'] == 'CARAT') | (s2['New Value'] == 'CARAT')]\n",
    "\n",
    "car = car[['Case Number', 'CARAT Date', 'CARAT']]\n",
    "\n",
    "car = car.drop_duplicates(subset=['Case Number'])"
   ]
  },
  {
   "cell_type": "code",
   "execution_count": 12,
   "id": "ce34dbb6",
   "metadata": {},
   "outputs": [],
   "source": [
    "#Check for Validation\n",
    "\n",
    "val = s2[(s2['Old Value'] == 'Validation') | (s2['New Value'] == 'Validation')]\n",
    "\n",
    "val = val[['Case Number', 'VALIDATION']]\n",
    "\n",
    "val = val.drop_duplicates(subset=['Case Number'])"
   ]
  },
  {
   "cell_type": "code",
   "execution_count": 13,
   "id": "faf33d21",
   "metadata": {},
   "outputs": [],
   "source": [
    "#Check for Preorder\n",
    "\n",
    "pre = s2[(s2['Old Value'] == 'Preorder') | (s2['New Value'] == 'Preorder')]\n",
    "\n",
    "pre = pre[['Case Number', 'PREORDER']]\n",
    "\n",
    "pre = pre.drop_duplicates(subset=['Case Number'])"
   ]
  },
  {
   "cell_type": "code",
   "execution_count": 14,
   "id": "ce142c1d",
   "metadata": {},
   "outputs": [],
   "source": [
    "#Check for CAD\n",
    "\n",
    "cad = s2[(s2['Old Value'] == 'CAD') | (s2['New Value'] == 'CAD')]\n",
    "\n",
    "cad = cad[['Case Number', 'CAD Date']]\n",
    "\n",
    "cad = cad.drop_duplicates(subset=['Case Number'])"
   ]
  },
  {
   "cell_type": "code",
   "execution_count": 15,
   "id": "1a76f211",
   "metadata": {},
   "outputs": [],
   "source": [
    "#Merge all status\n",
    "\n",
    "from functools import reduce\n",
    "\n",
    "data_frame = [act, car, bo, val, pre, cad]\n",
    "status = reduce(lambda left, right: pd.merge(left, right, on=['Case Number'], how='outer'), data_frame)\n"
   ]
  },
  {
   "cell_type": "code",
   "execution_count": 16,
   "id": "a33cfb00",
   "metadata": {},
   "outputs": [],
   "source": [
    "f = status[['CARAT', 'BACKORDER', 'VALIDATION', 'PREORDER']]\n",
    "\n",
    "status['ALL_EXCL'] = [ x[pd.notna(x)].tolist()[0] if len(x[pd.notna(x)].tolist()) > 0 else \"\" for x in f.values]\n"
   ]
  },
  {
   "cell_type": "code",
   "execution_count": 17,
   "id": "b0a2ede4",
   "metadata": {},
   "outputs": [],
   "source": [
    "#Add the various status to table\n",
    "\n",
    "R3 = pd.merge(left=R2, right=status, left_on='Case_Number', right_on='Case Number', how='left')\n"
   ]
  },
  {
   "cell_type": "code",
   "execution_count": 18,
   "id": "1ffda4ff",
   "metadata": {},
   "outputs": [],
   "source": [
    "#Read SAP again so as to concatenate date & time\n",
    "\n",
    "sp = pd.read_excel(\"C:\\\\WSS-NAC-Reports\\\\Automation Folder\\\\NAC Report\\\\01_SAP_Raw Report_NAC.xlsx\")\n",
    "sp['Created_in_SAP'] = pd.to_datetime(sp['Document Date']) + pd.to_timedelta(sp['Document Time'].astype(str))\n",
    "sp['Dropped_to_WH'] = pd.to_datetime(sp['Delivery Date']) + pd.to_timedelta(sp['Delivery Time'].astype(str))\n",
    "sp['Goods_Issue'] = pd.to_datetime(sp['Goods Issue Date']) + pd.to_timedelta(sp['Goods Issue Time'].astype(str))\n",
    "sp.rename(columns = {'Sales Document' : 'Sales Doc'}, inplace = True)\n",
    "sp_new = sp[['Sales Doc', 'Created_in_SAP', 'Dropped_to_WH', 'Goods_Issue']]\n",
    "\n",
    "#Remove duplicate on sales document\n",
    "sp_new = sp_new.drop_duplicates(subset=['Sales Doc'])\n"
   ]
  },
  {
   "cell_type": "code",
   "execution_count": 19,
   "id": "c67ca717",
   "metadata": {},
   "outputs": [],
   "source": [
    "#Add SFDC recieved time to the sp table by joining sp to R3 using sale document column\n",
    "\n",
    "R4 = pd.merge(left=R3, right=sp_new, left_on='Sales Document', right_on='Sales Doc', how='left')\n"
   ]
  },
  {
   "cell_type": "code",
   "execution_count": 1,
   "id": "fbbd2e14",
   "metadata": {},
   "outputs": [
    {
     "ename": "IndentationError",
     "evalue": "expected an indented block (Temp/ipykernel_16992/1511858184.py, line 58)",
     "output_type": "error",
     "traceback": [
      "\u001b[1;36m  File \u001b[1;32m\"C:\\Users\\t923574\\AppData\\Local\\Temp/ipykernel_16992/1511858184.py\"\u001b[1;36m, line \u001b[1;32m58\u001b[0m\n\u001b[1;33m    \u001b[0m\n\u001b[1;37m    ^\u001b[0m\n\u001b[1;31mIndentationError\u001b[0m\u001b[1;31m:\u001b[0m expected an indented block\n"
     ]
    }
   ],
   "source": [
    "#Calculate date without weekends and holidays\n",
    "\n",
    "COL1 = \"SFDC_Goods_Mins\"\n",
    "COL2 = \"SFDC_SAP_Mins\"\n",
    "COL3 = \"SAP_WH_Mins\"\n",
    "COL4 = \"WH_Shipping_Mins\"\n",
    "COL5 = \"SAP_Goods_Mins\"\n",
    "\n",
    "\n",
    "hd = pd.read_excel(\"C:\\\\WSS-NAC-Reports\\\\Automation Folder\\\\IQ Report\\\\Holidays.xlsx\")\n",
    "HOLIDAYS = hd['HolidayDate']\n",
    "\n",
    "def get_diff(date1, date2):\n",
    "    try:\n",
    "        diff = abs((date2 - date1).total_seconds())\n",
    "        days_between = (date2.date() - date1.date()).days\n",
    "        weekdays_between = abs(np.busday_count(date2.date(), date1.date()))\n",
    "        weekends_between = days_between - weekdays_between\n",
    "\n",
    "        if date2.date() != date1.date():\n",
    "            diff = diff - (weekends_between * SECONDS_IN_A_DAY)\n",
    "            \n",
    "        for holiday in HOLIDAYS:\n",
    "            holiday_date = datetime.strptime(str(holiday), \"%Y-%m-%d %H:%M:%S\")\n",
    "            if date1.date() <= holiday_date.date() <= date2.date():\n",
    "                diff = diff -  SECONDS_IN_A_DAY\n",
    "\n",
    "\n",
    "        return int(diff / 60)\n",
    "\n",
    "    except Exception as e:\n",
    "        print(e)\n",
    "        return 0\n",
    "\n",
    "\n",
    "SECONDS_IN_A_DAY = 86400\n",
    "R4[COL1] = 0\n",
    "R4[COL2] = 0\n",
    "R4[COL3] = 0\n",
    "R4[COL4] = 0\n",
    "R4[COL5] = 0\n",
    "\n",
    "\n",
    "for index, row in R4.iterrows():\n",
    "    try:\n",
    "        sfdc_date = datetime.strptime(str(row[\"Rcvd_SFDC\"]), \"%Y-%m-%d %H:%M:%S\")\n",
    "        doc_time_date = datetime.strptime(str(row[\"Created_in_SAP\"]), \"%Y-%m-%d %H:%M:%S\")\n",
    "        del_time_date = datetime.strptime(str(row[\"Dropped_to_WH\"]), \"%Y-%m-%d %H:%M:%S\")\n",
    "        gd_time_date = datetime.strptime(str(row[\"Goods_Issue\"]), \"%Y-%m-%d %H:%M:%S\")\n",
    "                   \n",
    "        R4.at[index, COL1] = get_diff(sfdc_date, gd_time_date)\n",
    "        R4.at[index, COL2] = ifor_val = get_diff(sfdc_date, doc_time_date)\n",
    "        R4.at[index, COL3] = get_diff(doc_time_date, del_time_date)\n",
    "        R4.at[index, COL4] = get_diff(del_time_date, gd_time_date)\n",
    "        R4.at[index, COL5] = get_diff(doc_time_date, gd_time_date)\n",
    "    except Exception as e:\n",
    "        #print(e)\n",
    "        \n"
   ]
  },
  {
   "cell_type": "code",
   "execution_count": 2,
   "id": "e0c7a024",
   "metadata": {},
   "outputs": [
    {
     "ename": "IndentationError",
     "evalue": "expected an indented block (Temp/ipykernel_16992/1603559001.py, line 45)",
     "output_type": "error",
     "traceback": [
      "\u001b[1;36m  File \u001b[1;32m\"C:\\Users\\t923574\\AppData\\Local\\Temp/ipykernel_16992/1603559001.py\"\u001b[1;36m, line \u001b[1;32m45\u001b[0m\n\u001b[1;33m    #print(e)\u001b[0m\n\u001b[1;37m             ^\u001b[0m\n\u001b[1;31mIndentationError\u001b[0m\u001b[1;31m:\u001b[0m expected an indented block\n"
     ]
    }
   ],
   "source": [
    "COL6 = \"WH_ACT_Mins\"\n",
    "COL7 = \"ACT_Shipping_Mins\"\n",
    "\n",
    "hd = pd.read_excel(\"C:\\\\WSS-NAC-Reports\\\\Automation Folder\\\\IQ Report\\\\Holidays.xlsx\")\n",
    "HOLIDAYS = hd['HolidayDate']\n",
    "\n",
    "def get_diff(date1, date2):\n",
    "    try:\n",
    "        diff = abs((date2 - date1).total_seconds())\n",
    "        days_between = (date2.date() - date1.date()).days\n",
    "        weekdays_between = abs(np.busday_count(date2.date(), date1.date()))\n",
    "        weekends_between = days_between - weekdays_between\n",
    "\n",
    "        if date2.date() != date1.date():\n",
    "            diff = diff - (weekends_between * SECONDS_IN_A_DAY)\n",
    "            \n",
    "        for holiday in HOLIDAYS:\n",
    "            holiday_date = datetime.strptime(str(holiday), \"%Y-%m-%d %H:%M:%S\")\n",
    "            if date1.date() <= holiday_date.date() <= date2.date():\n",
    "                diff = diff -  SECONDS_IN_A_DAY\n",
    "\n",
    "\n",
    "        return int(diff / 60)\n",
    "\n",
    "    except Exception as e:\n",
    "        print(e)\n",
    "        return 0\n",
    "\n",
    "\n",
    "SECONDS_IN_A_DAY = 86400\n",
    "R4[COL6] = 0\n",
    "R4[COL7] = 0\n",
    "\n",
    "for index, row in R4.iterrows():\n",
    "    try:\n",
    "        act_time_date = datetime.strptime(str(row[\"ACT_Status_Date\"]), \"%Y-%m-%d %H:%M:%S\")\n",
    "        del_time_date = datetime.strptime(str(row[\"Dropped_to_WH\"]), \"%Y-%m-%d %H:%M:%S\")\n",
    "        gd_time_date = datetime.strptime(str(row[\"Goods_Issue\"]), \"%Y-%m-%d %H:%M:%S\")\n",
    "       \n",
    "        \n",
    "        R4.at[index, COL6] = get_diff(del_time_date, act_time_date)\n",
    "        R4.at[index, COL7] = get_diff(act_time_date, gd_time_date)\n",
    "       \n",
    "    except Exception as e:\n",
    "        #print(e)"
   ]
  },
  {
   "cell_type": "code",
   "execution_count": 3,
   "id": "62fec731",
   "metadata": {},
   "outputs": [
    {
     "ename": "IndentationError",
     "evalue": "expected an indented block (Temp/ipykernel_16992/4189694298.py, line 40)",
     "output_type": "error",
     "traceback": [
      "\u001b[1;36m  File \u001b[1;32m\"C:\\Users\\t923574\\AppData\\Local\\Temp/ipykernel_16992/4189694298.py\"\u001b[1;36m, line \u001b[1;32m40\u001b[0m\n\u001b[1;33m    #print(e)\u001b[0m\n\u001b[1;37m             ^\u001b[0m\n\u001b[1;31mIndentationError\u001b[0m\u001b[1;31m:\u001b[0m expected an indented block\n"
     ]
    }
   ],
   "source": [
    "\n",
    "COL8 = \"CARAT_Processtime_Mins\"\n",
    "\n",
    "hd = pd.read_excel(\"C:\\\\WSS-NAC-Reports\\\\Automation Folder\\\\IQ Report\\\\Holidays.xlsx\")\n",
    "HOLIDAYS = hd['HolidayDate']\n",
    "\n",
    "def get_diff(date1, date2):\n",
    "    try:\n",
    "        diff = abs((date2 - date1).total_seconds())\n",
    "        days_between = (date2.date() - date1.date()).days\n",
    "        weekdays_between = abs(np.busday_count(date2.date(), date1.date()))\n",
    "        weekends_between = days_between - weekdays_between\n",
    "\n",
    "        if date2.date() != date1.date():\n",
    "            diff = diff - (weekends_between * SECONDS_IN_A_DAY)\n",
    "            \n",
    "        for holiday in HOLIDAYS:\n",
    "            holiday_date = datetime.strptime(str(holiday), \"%Y-%m-%d %H:%M:%S\")\n",
    "            if date1.date() <= holiday_date.date() <= date2.date():\n",
    "                diff = diff -  SECONDS_IN_A_DAY\n",
    "\n",
    "\n",
    "        return int(diff / 60)\n",
    "\n",
    "    except Exception as e:\n",
    "        print(e)\n",
    "        return 0\n",
    "\n",
    "SECONDS_IN_A_DAY = 86400\n",
    "R4[COL8] = 0\n",
    "\n",
    "for index, row in R4.iterrows():\n",
    "    try:\n",
    "        \n",
    "        car_time_date = datetime.strptime(str(row[\"CARAT Date\"]), \"%Y-%m-%d %H:%M:%S\")\n",
    "        cad_time_date = datetime.strptime(str(row[\"CAD Date\"]), \"%Y-%m-%d %H:%M:%S\")\n",
    "        \n",
    "        \n",
    "        R4.at[index, COL8] = get_diff(car_time_date, cad_time_date)\n",
    "    except Exception as e:\n",
    "        #print(e)"
   ]
  },
  {
   "cell_type": "code",
   "execution_count": 23,
   "id": "c1708dd6",
   "metadata": {},
   "outputs": [],
   "source": [
    "#no_of_lines\n",
    "\n",
    "R4['no_of_Lines'] = R4['Number_of_Subs_activated'] + R4['Number_of_Subs_Renewed']\n"
   ]
  },
  {
   "cell_type": "code",
   "execution_count": 24,
   "id": "b15e2186",
   "metadata": {},
   "outputs": [],
   "source": [
    "#Export BBAN Result\n",
    "\n",
    "NAC = R4[['Sales Document', 'Case_Number', 'Name of sold-to party', 'User ID', 'Agent_Name',  'Rcvd_SFDC','Created_in_SAP', \n",
    "         'Dropped_to_WH', 'ACT_Status_Date', 'Goods_Issue', 'Goods_Date', 'SFDC_Goods_Mins', 'SFDC_SAP_Mins', 'SAP_WH_Mins', \n",
    "          'WH_ACT_Mins', 'ACT_Shipping_Mins', 'WH_Shipping_Mins', 'SAP_Goods_Mins', 'Number_of_Subs_activated', \n",
    "          'Number_of_Subs_Renewed', 'CARAT_Processtime_Mins', 'Order_Type', 'Sales Group', 'BACKORDER', 'VALIDATION', \n",
    "          'PREORDER', 'CARAT', 'ALL_EXCL', 'no_of_Lines']]\n",
    "export_excell = NAC.to_excel(r'C:\\\\WSS-NAC-Reports\\\\Automation Folder\\\\NAC Report\\\\BBAN_Output.xlsx', index=None, header=True)"
   ]
  }
 ],
 "metadata": {
  "kernelspec": {
   "display_name": "Python 3 (ipykernel)",
   "language": "python",
   "name": "python3"
  },
  "language_info": {
   "codemirror_mode": {
    "name": "ipython",
    "version": 3
   },
   "file_extension": ".py",
   "mimetype": "text/x-python",
   "name": "python",
   "nbconvert_exporter": "python",
   "pygments_lexer": "ipython3",
   "version": "3.9.7"
  }
 },
 "nbformat": 4,
 "nbformat_minor": 5
}
